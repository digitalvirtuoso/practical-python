{
  "nbformat": 4,
  "nbformat_minor": 0,
  "metadata": {
    "colab": {
      "name": "Pandas Exercises.ipynb",
      "provenance": []
    },
    "kernelspec": {
      "name": "python3",
      "display_name": "Python 3"
    }
  },
  "cells": [
    {
      "cell_type": "markdown",
      "metadata": {
        "id": "QpxT1QiByC0w",
        "colab_type": "text"
      },
      "source": [
        "**Pandas Exercises - With the NY Times Covid data**\n",
        "\n",
        "Run the cell below to pull get the data from the nytimes github"
      ]
    },
    {
      "cell_type": "code",
      "metadata": {
        "id": "RQ44vbLFx5Mi",
        "colab_type": "code",
        "colab": {
          "base_uri": "https://localhost:8080/",
          "height": 35
        },
        "outputId": "8ab4107d-8025-456a-fc6d-5e1e2833d733"
      },
      "source": [
        "!git clone https://github.com/nytimes/covid-19-data.git"
      ],
      "execution_count": 1,
      "outputs": []
    },
    {
      "cell_type": "markdown",
      "metadata": {
        "id": "QsSfsj_HyXKp",
        "colab_type": "text"
      },
      "source": [
        "**1. Import Pandas and Check your Version of Pandas**"
      ]
    },
    {
      "cell_type": "code",
      "metadata": {
        "id": "ZwQTqr_5yPts",
        "colab_type": "code",
        "colab": {
          "base_uri": "https://localhost:8080/",
          "height": 35
        },
        "outputId": "fb592eee-80b9-4fe5-a80e-fc70f55e1e50"
      },
      "source": [
        "import pandas as pd\n",
        "pd.__version__"
      ],
      "execution_count": 2,
      "outputs": [
        {
          "output_type": "execute_result",
          "data": {
            "text/plain": [
              "'1.0.3'"
            ]
          },
          "metadata": {
            "tags": []
          },
          "execution_count": 2
        }
      ]
    },
    {
      "cell_type": "markdown",
      "metadata": {
        "id": "dziluy3nztK6",
        "colab_type": "text"
      },
      "source": [
        "**2. Read the *us-counties.csv* data into a new Dataframe**"
      ]
    },
    {
      "cell_type": "code",
      "metadata": {
        "id": "WHj6oXHIzs64",
        "colab_type": "code",
        "colab": {}
      },
      "source": [
        "covid_data = pd.read_csv('/content/covid-19-data/us-counties.csv')\n"
      ],
      "execution_count": 0,
      "outputs": []
    },
    {
      "cell_type": "markdown",
      "metadata": {
        "id": "-5TCjU1-y-CL",
        "colab_type": "text"
      },
      "source": [
        "**3. Display the first 5 Rows**"
      ]
    },
    {
      "cell_type": "code",
      "metadata": {
        "id": "H8F4jsowy9bZ",
        "colab_type": "code",
        "colab": {
          "base_uri": "https://localhost:8080/",
          "height": 198
        },
        "outputId": "f7adf810-93e0-456e-949d-36a99cd3d271"
      },
      "source": [
        "covid_data.head(5)"
      ],
      "execution_count": 4,
      "outputs": [
        {
          "output_type": "execute_result",
          "data": {
            "text/html": [
              "<div>\n",
              "<style scoped>\n",
              "    .dataframe tbody tr th:only-of-type {\n",
              "        vertical-align: middle;\n",
              "    }\n",
              "\n",
              "    .dataframe tbody tr th {\n",
              "        vertical-align: top;\n",
              "    }\n",
              "\n",
              "    .dataframe thead th {\n",
              "        text-align: right;\n",
              "    }\n",
              "</style>\n",
              "<table border=\"1\" class=\"dataframe\">\n",
              "  <thead>\n",
              "    <tr style=\"text-align: right;\">\n",
              "      <th></th>\n",
              "      <th>date</th>\n",
              "      <th>county</th>\n",
              "      <th>state</th>\n",
              "      <th>fips</th>\n",
              "      <th>cases</th>\n",
              "      <th>deaths</th>\n",
              "    </tr>\n",
              "  </thead>\n",
              "  <tbody>\n",
              "    <tr>\n",
              "      <th>0</th>\n",
              "      <td>2020-01-21</td>\n",
              "      <td>Snohomish</td>\n",
              "      <td>Washington</td>\n",
              "      <td>53061.0</td>\n",
              "      <td>1</td>\n",
              "      <td>0</td>\n",
              "    </tr>\n",
              "    <tr>\n",
              "      <th>1</th>\n",
              "      <td>2020-01-22</td>\n",
              "      <td>Snohomish</td>\n",
              "      <td>Washington</td>\n",
              "      <td>53061.0</td>\n",
              "      <td>1</td>\n",
              "      <td>0</td>\n",
              "    </tr>\n",
              "    <tr>\n",
              "      <th>2</th>\n",
              "      <td>2020-01-23</td>\n",
              "      <td>Snohomish</td>\n",
              "      <td>Washington</td>\n",
              "      <td>53061.0</td>\n",
              "      <td>1</td>\n",
              "      <td>0</td>\n",
              "    </tr>\n",
              "    <tr>\n",
              "      <th>3</th>\n",
              "      <td>2020-01-24</td>\n",
              "      <td>Cook</td>\n",
              "      <td>Illinois</td>\n",
              "      <td>17031.0</td>\n",
              "      <td>1</td>\n",
              "      <td>0</td>\n",
              "    </tr>\n",
              "    <tr>\n",
              "      <th>4</th>\n",
              "      <td>2020-01-24</td>\n",
              "      <td>Snohomish</td>\n",
              "      <td>Washington</td>\n",
              "      <td>53061.0</td>\n",
              "      <td>1</td>\n",
              "      <td>0</td>\n",
              "    </tr>\n",
              "  </tbody>\n",
              "</table>\n",
              "</div>"
            ],
            "text/plain": [
              "         date     county       state     fips  cases  deaths\n",
              "0  2020-01-21  Snohomish  Washington  53061.0      1       0\n",
              "1  2020-01-22  Snohomish  Washington  53061.0      1       0\n",
              "2  2020-01-23  Snohomish  Washington  53061.0      1       0\n",
              "3  2020-01-24       Cook    Illinois  17031.0      1       0\n",
              "4  2020-01-24  Snohomish  Washington  53061.0      1       0"
            ]
          },
          "metadata": {
            "tags": []
          },
          "execution_count": 4
        }
      ]
    },
    {
      "cell_type": "markdown",
      "metadata": {
        "id": "ew3pGw-SxH3d",
        "colab_type": "text"
      },
      "source": [
        "**4. Drop the 'fips' Column**"
      ]
    },
    {
      "cell_type": "code",
      "metadata": {
        "id": "pFtFiZLIxL8V",
        "colab_type": "code",
        "colab": {}
      },
      "source": [
        "covid_data = covid_data.drop('fips', axis=1)"
      ],
      "execution_count": 0,
      "outputs": []
    },
    {
      "cell_type": "markdown",
      "metadata": {
        "id": "uEwOVzxY3TM_",
        "colab_type": "text"
      },
      "source": [
        "**5. Check dtypes of the data**"
      ]
    },
    {
      "cell_type": "code",
      "metadata": {
        "id": "lsKpdQiF3Fz0",
        "colab_type": "code",
        "colab": {
          "base_uri": "https://localhost:8080/",
          "height": 121
        },
        "outputId": "e778bcbb-1830-4581-8365-478e4e2e4294"
      },
      "source": [
        "covid_data.dtypes"
      ],
      "execution_count": 6,
      "outputs": [
        {
          "output_type": "execute_result",
          "data": {
            "text/plain": [
              "date      object\n",
              "county    object\n",
              "state     object\n",
              "cases      int64\n",
              "deaths     int64\n",
              "dtype: object"
            ]
          },
          "metadata": {
            "tags": []
          },
          "execution_count": 6
        }
      ]
    },
    {
      "cell_type": "markdown",
      "metadata": {
        "id": "-w0szwEE0vtF",
        "colab_type": "text"
      },
      "source": [
        "**6. Change the 'date' column to Date dtype**"
      ]
    },
    {
      "cell_type": "code",
      "metadata": {
        "id": "AvTrbhBA0u-h",
        "colab_type": "code",
        "colab": {}
      },
      "source": [
        "covid_data.date = pd.to_datetime(covid_data.date)"
      ],
      "execution_count": 0,
      "outputs": []
    },
    {
      "cell_type": "markdown",
      "metadata": {
        "id": "pvL5iDg-2F1P",
        "colab_type": "text"
      },
      "source": [
        "**7. Set the data index to 'date'**"
      ]
    },
    {
      "cell_type": "code",
      "metadata": {
        "id": "Jt5KvSIa0giV",
        "colab_type": "code",
        "colab": {}
      },
      "source": [
        "covid_data = covid_data.set_index('date')"
      ],
      "execution_count": 0,
      "outputs": []
    },
    {
      "cell_type": "markdown",
      "metadata": {
        "id": "J62SRL-11sdS",
        "colab_type": "text"
      },
      "source": [
        "**8. Find how many weeks worth of data we have**"
      ]
    },
    {
      "cell_type": "code",
      "metadata": {
        "id": "ydr76OSt1Ia9",
        "colab_type": "code",
        "colab": {
          "base_uri": "https://localhost:8080/",
          "height": 35
        },
        "outputId": "40e51e9a-79ff-4da6-c567-4e6d9225e5e9"
      },
      "source": [
        "print('Weeks:', (covid_data.index.max() - covid_data.index.min()).days / 7)"
      ],
      "execution_count": 9,
      "outputs": [
        {
          "output_type": "stream",
          "text": [
            "Weeks: 15.285714285714286\n"
          ],
          "name": "stdout"
        }
      ]
    },
    {
      "cell_type": "markdown",
      "metadata": {
        "id": "banCJ8eK4jJB",
        "colab_type": "text"
      },
      "source": [
        "**9. Create a seperate Dataframe representing only California and display the first 5 data entries**"
      ]
    },
    {
      "cell_type": "code",
      "metadata": {
        "id": "NVN7SxK5cJhX",
        "colab_type": "code",
        "colab": {
          "base_uri": "https://localhost:8080/",
          "height": 228
        },
        "outputId": "208a9cb2-6654-4ce8-d930-4bb5ca14d5b3"
      },
      "source": [
        "CA_data = covid_data[covid_data['state'].str.contains(\"California\")]\n",
        "CA_data.head()"
      ],
      "execution_count": 10,
      "outputs": [
        {
          "output_type": "execute_result",
          "data": {
            "text/html": [
              "<div>\n",
              "<style scoped>\n",
              "    .dataframe tbody tr th:only-of-type {\n",
              "        vertical-align: middle;\n",
              "    }\n",
              "\n",
              "    .dataframe tbody tr th {\n",
              "        vertical-align: top;\n",
              "    }\n",
              "\n",
              "    .dataframe thead th {\n",
              "        text-align: right;\n",
              "    }\n",
              "</style>\n",
              "<table border=\"1\" class=\"dataframe\">\n",
              "  <thead>\n",
              "    <tr style=\"text-align: right;\">\n",
              "      <th></th>\n",
              "      <th>county</th>\n",
              "      <th>state</th>\n",
              "      <th>cases</th>\n",
              "      <th>deaths</th>\n",
              "    </tr>\n",
              "    <tr>\n",
              "      <th>date</th>\n",
              "      <th></th>\n",
              "      <th></th>\n",
              "      <th></th>\n",
              "      <th></th>\n",
              "    </tr>\n",
              "  </thead>\n",
              "  <tbody>\n",
              "    <tr>\n",
              "      <th>2020-01-25</th>\n",
              "      <td>Orange</td>\n",
              "      <td>California</td>\n",
              "      <td>1</td>\n",
              "      <td>0</td>\n",
              "    </tr>\n",
              "    <tr>\n",
              "      <th>2020-01-26</th>\n",
              "      <td>Los Angeles</td>\n",
              "      <td>California</td>\n",
              "      <td>1</td>\n",
              "      <td>0</td>\n",
              "    </tr>\n",
              "    <tr>\n",
              "      <th>2020-01-26</th>\n",
              "      <td>Orange</td>\n",
              "      <td>California</td>\n",
              "      <td>1</td>\n",
              "      <td>0</td>\n",
              "    </tr>\n",
              "    <tr>\n",
              "      <th>2020-01-27</th>\n",
              "      <td>Los Angeles</td>\n",
              "      <td>California</td>\n",
              "      <td>1</td>\n",
              "      <td>0</td>\n",
              "    </tr>\n",
              "    <tr>\n",
              "      <th>2020-01-27</th>\n",
              "      <td>Orange</td>\n",
              "      <td>California</td>\n",
              "      <td>1</td>\n",
              "      <td>0</td>\n",
              "    </tr>\n",
              "  </tbody>\n",
              "</table>\n",
              "</div>"
            ],
            "text/plain": [
              "                 county       state  cases  deaths\n",
              "date                                              \n",
              "2020-01-25       Orange  California      1       0\n",
              "2020-01-26  Los Angeles  California      1       0\n",
              "2020-01-26       Orange  California      1       0\n",
              "2020-01-27  Los Angeles  California      1       0\n",
              "2020-01-27       Orange  California      1       0"
            ]
          },
          "metadata": {
            "tags": []
          },
          "execution_count": 10
        }
      ]
    },
    {
      "cell_type": "markdown",
      "metadata": {
        "id": "LKMijtKxh_xQ",
        "colab_type": "text"
      },
      "source": [
        "**10. How many counties in California do we have data for?**"
      ]
    },
    {
      "cell_type": "code",
      "metadata": {
        "id": "jpmkFjPfiwnL",
        "colab_type": "code",
        "colab": {
          "base_uri": "https://localhost:8080/",
          "height": 35
        },
        "outputId": "900d4ec8-e477-40a8-b128-04c915a60f8f"
      },
      "source": [
        "CA_data['county'].nunique()"
      ],
      "execution_count": 11,
      "outputs": [
        {
          "output_type": "execute_result",
          "data": {
            "text/plain": [
              "55"
            ]
          },
          "metadata": {
            "tags": []
          },
          "execution_count": 11
        }
      ]
    },
    {
      "cell_type": "markdown",
      "metadata": {
        "id": "E02xoD8XixZa",
        "colab_type": "text"
      },
      "source": [
        "**11. How many data entries do we have for each county?**"
      ]
    },
    {
      "cell_type": "code",
      "metadata": {
        "id": "1cz0av1Hhpko",
        "colab_type": "code",
        "colab": {
          "base_uri": "https://localhost:8080/",
          "height": 985
        },
        "outputId": "16632d15-8637-463a-8eaa-2c187f5991fe"
      },
      "source": [
        "CA_data['county'].value_counts()"
      ],
      "execution_count": 12,
      "outputs": [
        {
          "output_type": "execute_result",
          "data": {
            "text/plain": [
              "Orange             104\n",
              "Los Angeles        103\n",
              "Santa Clara         98\n",
              "San Francisco       96\n",
              "San Diego           88\n",
              "Humboldt            78\n",
              "Sacramento          77\n",
              "Solano              74\n",
              "Marin               72\n",
              "Sonoma              72\n",
              "Napa                72\n",
              "Alameda             68\n",
              "San Mateo           67\n",
              "Placer              67\n",
              "Contra Costa        66\n",
              "Yolo                63\n",
              "Fresno              62\n",
              "Riverside           62\n",
              "Santa Cruz          62\n",
              "Madera              62\n",
              "Shasta              60\n",
              "San Joaquin         59\n",
              "Ventura             59\n",
              "Stanislaus          58\n",
              "Tulare              57\n",
              "San Benito          56\n",
              "San Luis Obispo     55\n",
              "Santa Barbara       54\n",
              "San Bernardino      54\n",
              "Nevada              53\n",
              "Monterey            52\n",
              "Kern                52\n",
              "Mendocino           51\n",
              "Amador              49\n",
              "Imperial            49\n",
              "Siskiyou            48\n",
              "El Dorado           48\n",
              "Butte               48\n",
              "Yuba                48\n",
              "Merced              45\n",
              "Calaveras           45\n",
              "Mono                45\n",
              "Sutter              44\n",
              "Inyo                44\n",
              "Colusa              42\n",
              "Kings               42\n",
              "Glenn               41\n",
              "Tuolumne            40\n",
              "Alpine              39\n",
              "Plumas              38\n",
              "Del Norte           36\n",
              "Tehama              35\n",
              "Lake                32\n",
              "Unknown             15\n",
              "Mariposa            10\n",
              "Name: county, dtype: int64"
            ]
          },
          "metadata": {
            "tags": []
          },
          "execution_count": 12
        }
      ]
    },
    {
      "cell_type": "code",
      "metadata": {
        "id": "T0rlyHbBjZZT",
        "colab_type": "code",
        "colab": {
          "base_uri": "https://localhost:8080/",
          "height": 967
        },
        "outputId": "3044dcb8-ef54-4524-c5e6-270cbde3e771"
      },
      "source": [
        "# Alternatively the count and totals can be done with collections Counter\n",
        "from collections import Counter\n",
        "count = Counter(CA_data['county'])\n",
        "count"
      ],
      "execution_count": 13,
      "outputs": [
        {
          "output_type": "execute_result",
          "data": {
            "text/plain": [
              "Counter({'Alameda': 68,\n",
              "         'Alpine': 39,\n",
              "         'Amador': 49,\n",
              "         'Butte': 48,\n",
              "         'Calaveras': 45,\n",
              "         'Colusa': 42,\n",
              "         'Contra Costa': 66,\n",
              "         'Del Norte': 36,\n",
              "         'El Dorado': 48,\n",
              "         'Fresno': 62,\n",
              "         'Glenn': 41,\n",
              "         'Humboldt': 78,\n",
              "         'Imperial': 49,\n",
              "         'Inyo': 44,\n",
              "         'Kern': 52,\n",
              "         'Kings': 42,\n",
              "         'Lake': 32,\n",
              "         'Los Angeles': 103,\n",
              "         'Madera': 62,\n",
              "         'Marin': 72,\n",
              "         'Mariposa': 10,\n",
              "         'Mendocino': 51,\n",
              "         'Merced': 45,\n",
              "         'Mono': 45,\n",
              "         'Monterey': 52,\n",
              "         'Napa': 72,\n",
              "         'Nevada': 53,\n",
              "         'Orange': 104,\n",
              "         'Placer': 67,\n",
              "         'Plumas': 38,\n",
              "         'Riverside': 62,\n",
              "         'Sacramento': 77,\n",
              "         'San Benito': 56,\n",
              "         'San Bernardino': 54,\n",
              "         'San Diego': 88,\n",
              "         'San Francisco': 96,\n",
              "         'San Joaquin': 59,\n",
              "         'San Luis Obispo': 55,\n",
              "         'San Mateo': 67,\n",
              "         'Santa Barbara': 54,\n",
              "         'Santa Clara': 98,\n",
              "         'Santa Cruz': 62,\n",
              "         'Shasta': 60,\n",
              "         'Siskiyou': 48,\n",
              "         'Solano': 74,\n",
              "         'Sonoma': 72,\n",
              "         'Stanislaus': 58,\n",
              "         'Sutter': 44,\n",
              "         'Tehama': 35,\n",
              "         'Tulare': 57,\n",
              "         'Tuolumne': 40,\n",
              "         'Unknown': 15,\n",
              "         'Ventura': 59,\n",
              "         'Yolo': 63,\n",
              "         'Yuba': 48})"
            ]
          },
          "metadata": {
            "tags": []
          },
          "execution_count": 13
        }
      ]
    },
    {
      "cell_type": "markdown",
      "metadata": {
        "id": "KXpb5xKqnFzY",
        "colab_type": "text"
      },
      "source": [
        "**12. How many counties in California have experienced over 1000 cases?**"
      ]
    },
    {
      "cell_type": "code",
      "metadata": {
        "id": "vzQb188Ue942",
        "colab_type": "code",
        "colab": {
          "base_uri": "https://localhost:8080/",
          "height": 35
        },
        "outputId": "acfa1841-2f95-4342-dcb5-dd17f9179bf2"
      },
      "source": [
        "len(CA_data[CA_data['cases'] > 1000]['county'].value_counts())"
      ],
      "execution_count": 14,
      "outputs": [
        {
          "output_type": "execute_result",
          "data": {
            "text/plain": [
              "11"
            ]
          },
          "metadata": {
            "tags": []
          },
          "execution_count": 14
        }
      ]
    },
    {
      "cell_type": "code",
      "metadata": {
        "id": "O9yfPh7nmMaz",
        "colab_type": "code",
        "colab": {
          "base_uri": "https://localhost:8080/",
          "height": 104
        },
        "outputId": "df6e31fc-1a3f-49e5-d514-8346674934e3"
      },
      "source": [
        "# nunique will tell you how for each Column\n",
        "CA_data[CA_data['cases'] > 1000].nunique()"
      ],
      "execution_count": 15,
      "outputs": [
        {
          "output_type": "execute_result",
          "data": {
            "text/plain": [
              "county     11\n",
              "state       1\n",
              "cases     249\n",
              "deaths    130\n",
              "dtype: int64"
            ]
          },
          "metadata": {
            "tags": []
          },
          "execution_count": 15
        }
      ]
    },
    {
      "cell_type": "markdown",
      "metadata": {
        "id": "5B7HuYPbnSuy",
        "colab_type": "text"
      },
      "source": [
        "**13. Which county has experienced the highest death toll?**"
      ]
    },
    {
      "cell_type": "code",
      "metadata": {
        "id": "I1vvZE0ynSGq",
        "colab_type": "code",
        "colab": {
          "base_uri": "https://localhost:8080/",
          "height": 108
        },
        "outputId": "48d4623f-d408-406e-dd71-e9099a4bb798"
      },
      "source": [
        "CA_data[CA_data['deaths'] > max(CA_data['deaths']) - 1]"
      ],
      "execution_count": 16,
      "outputs": [
        {
          "output_type": "execute_result",
          "data": {
            "text/html": [
              "<div>\n",
              "<style scoped>\n",
              "    .dataframe tbody tr th:only-of-type {\n",
              "        vertical-align: middle;\n",
              "    }\n",
              "\n",
              "    .dataframe tbody tr th {\n",
              "        vertical-align: top;\n",
              "    }\n",
              "\n",
              "    .dataframe thead th {\n",
              "        text-align: right;\n",
              "    }\n",
              "</style>\n",
              "<table border=\"1\" class=\"dataframe\">\n",
              "  <thead>\n",
              "    <tr style=\"text-align: right;\">\n",
              "      <th></th>\n",
              "      <th>county</th>\n",
              "      <th>state</th>\n",
              "      <th>cases</th>\n",
              "      <th>deaths</th>\n",
              "    </tr>\n",
              "    <tr>\n",
              "      <th>date</th>\n",
              "      <th></th>\n",
              "      <th></th>\n",
              "      <th></th>\n",
              "      <th></th>\n",
              "    </tr>\n",
              "  </thead>\n",
              "  <tbody>\n",
              "    <tr>\n",
              "      <th>2020-05-07</th>\n",
              "      <td>Los Angeles</td>\n",
              "      <td>California</td>\n",
              "      <td>29427</td>\n",
              "      <td>1418</td>\n",
              "    </tr>\n",
              "  </tbody>\n",
              "</table>\n",
              "</div>"
            ],
            "text/plain": [
              "                 county       state  cases  deaths\n",
              "date                                              \n",
              "2020-05-07  Los Angeles  California  29427    1418"
            ]
          },
          "metadata": {
            "tags": []
          },
          "execution_count": 16
        }
      ]
    },
    {
      "cell_type": "markdown",
      "metadata": {
        "id": "guX6hx9vpqRD",
        "colab_type": "text"
      },
      "source": [
        "**14. Slice the Data for that County Seperately into a new Dataframe**"
      ]
    },
    {
      "cell_type": "code",
      "metadata": {
        "id": "4T6KQa_5m8Kp",
        "colab_type": "code",
        "colab": {}
      },
      "source": [
        "la_ca_data = CA_data[CA_data['county'].str.contains('Los Angeles')]"
      ],
      "execution_count": 0,
      "outputs": []
    },
    {
      "cell_type": "markdown",
      "metadata": {
        "id": "EQYEf1reqlPC",
        "colab_type": "text"
      },
      "source": [
        "**15. Create and populate new Columns for New Cases per Day and Deaths per day**"
      ]
    },
    {
      "cell_type": "code",
      "metadata": {
        "id": "m1xU8vg5qk_1",
        "colab_type": "code",
        "colab": {}
      },
      "source": [
        "# Creating a New Column this way will Raise a SettingWithCopyWarning\n",
        "pd.set_option('mode.chained_assignment',None)\n",
        "# The Code above surpresses that warning\n",
        "\n",
        "la_ca_data['cases_per_day'] = la_ca_data['cases'].diff(1).fillna(0)\n",
        "la_ca_data['deaths_per_day'] = la_ca_data['deaths'].diff(1).fillna(0)\n",
        "\n",
        "# This code turns the warning back on\n",
        "# See the Pandas documentation here for more on SettingWithCopyWarning\n",
        "# https://pandas.pydata.org/pandas-docs/stable/user_guide/indexing.html#returning-a-view-versus-a-copy\n",
        "pd.set_option('mode.chained_assignment', 'warn')"
      ],
      "execution_count": 0,
      "outputs": []
    },
    {
      "cell_type": "markdown",
      "metadata": {
        "id": "ds0qam6W_n5N",
        "colab_type": "text"
      },
      "source": [
        "**16. What date had the most cases for LA county?**"
      ]
    },
    {
      "cell_type": "code",
      "metadata": {
        "id": "ZM_4p6Nh_fIZ",
        "colab_type": "code",
        "colab": {
          "base_uri": "https://localhost:8080/",
          "height": 108
        },
        "outputId": "ad5a8684-ac80-48fa-9641-75bffe0fd30e"
      },
      "source": [
        "la_ca_data[la_ca_data['cases_per_day'] > max(la_ca_data['cases_per_day']) - 1]"
      ],
      "execution_count": 52,
      "outputs": [
        {
          "output_type": "execute_result",
          "data": {
            "text/html": [
              "<div>\n",
              "<style scoped>\n",
              "    .dataframe tbody tr th:only-of-type {\n",
              "        vertical-align: middle;\n",
              "    }\n",
              "\n",
              "    .dataframe tbody tr th {\n",
              "        vertical-align: top;\n",
              "    }\n",
              "\n",
              "    .dataframe thead th {\n",
              "        text-align: right;\n",
              "    }\n",
              "</style>\n",
              "<table border=\"1\" class=\"dataframe\">\n",
              "  <thead>\n",
              "    <tr style=\"text-align: right;\">\n",
              "      <th></th>\n",
              "      <th>county</th>\n",
              "      <th>state</th>\n",
              "      <th>cases</th>\n",
              "      <th>deaths</th>\n",
              "      <th>cases_per_day</th>\n",
              "      <th>deaths_per_day</th>\n",
              "    </tr>\n",
              "    <tr>\n",
              "      <th>date</th>\n",
              "      <th></th>\n",
              "      <th></th>\n",
              "      <th></th>\n",
              "      <th></th>\n",
              "      <th></th>\n",
              "      <th></th>\n",
              "    </tr>\n",
              "  </thead>\n",
              "  <tbody>\n",
              "    <tr>\n",
              "      <th>2020-05-05</th>\n",
              "      <td>Los Angeles</td>\n",
              "      <td>California</td>\n",
              "      <td>27815</td>\n",
              "      <td>1313</td>\n",
              "      <td>1598.0</td>\n",
              "      <td>57.0</td>\n",
              "    </tr>\n",
              "  </tbody>\n",
              "</table>\n",
              "</div>"
            ],
            "text/plain": [
              "                 county       state  ...  cases_per_day  deaths_per_day\n",
              "date                                 ...                               \n",
              "2020-05-05  Los Angeles  California  ...         1598.0            57.0\n",
              "\n",
              "[1 rows x 6 columns]"
            ]
          },
          "metadata": {
            "tags": []
          },
          "execution_count": 52
        }
      ]
    },
    {
      "cell_type": "markdown",
      "metadata": {
        "id": "axEZDmKTvpk6",
        "colab_type": "text"
      },
      "source": [
        "**17. Inspect the data in the month of April for Los Angeles County**"
      ]
    },
    {
      "cell_type": "code",
      "metadata": {
        "id": "rZApPTDq-_C2",
        "colab_type": "code",
        "colab": {
          "base_uri": "https://localhost:8080/",
          "height": 978
        },
        "outputId": "067ba534-051c-48a2-aeeb-aca7d5e6beb7"
      },
      "source": [
        "april_la_ca_data = la_ca_data['2020-04-01':'2020-04-30']\n",
        "april_la_ca_data"
      ],
      "execution_count": 40,
      "outputs": [
        {
          "output_type": "execute_result",
          "data": {
            "text/html": [
              "<div>\n",
              "<style scoped>\n",
              "    .dataframe tbody tr th:only-of-type {\n",
              "        vertical-align: middle;\n",
              "    }\n",
              "\n",
              "    .dataframe tbody tr th {\n",
              "        vertical-align: top;\n",
              "    }\n",
              "\n",
              "    .dataframe thead th {\n",
              "        text-align: right;\n",
              "    }\n",
              "</style>\n",
              "<table border=\"1\" class=\"dataframe\">\n",
              "  <thead>\n",
              "    <tr style=\"text-align: right;\">\n",
              "      <th></th>\n",
              "      <th>county</th>\n",
              "      <th>state</th>\n",
              "      <th>cases</th>\n",
              "      <th>deaths</th>\n",
              "      <th>cases_per_day</th>\n",
              "      <th>deaths_per_day</th>\n",
              "    </tr>\n",
              "    <tr>\n",
              "      <th>date</th>\n",
              "      <th></th>\n",
              "      <th></th>\n",
              "      <th></th>\n",
              "      <th></th>\n",
              "      <th></th>\n",
              "      <th></th>\n",
              "    </tr>\n",
              "  </thead>\n",
              "  <tbody>\n",
              "    <tr>\n",
              "      <th>2020-04-01</th>\n",
              "      <td>Los Angeles</td>\n",
              "      <td>California</td>\n",
              "      <td>3518</td>\n",
              "      <td>65</td>\n",
              "      <td>507.0</td>\n",
              "      <td>11.0</td>\n",
              "    </tr>\n",
              "    <tr>\n",
              "      <th>2020-04-02</th>\n",
              "      <td>Los Angeles</td>\n",
              "      <td>California</td>\n",
              "      <td>4045</td>\n",
              "      <td>78</td>\n",
              "      <td>527.0</td>\n",
              "      <td>13.0</td>\n",
              "    </tr>\n",
              "    <tr>\n",
              "      <th>2020-04-03</th>\n",
              "      <td>Los Angeles</td>\n",
              "      <td>California</td>\n",
              "      <td>4566</td>\n",
              "      <td>89</td>\n",
              "      <td>521.0</td>\n",
              "      <td>11.0</td>\n",
              "    </tr>\n",
              "    <tr>\n",
              "      <th>2020-04-04</th>\n",
              "      <td>Los Angeles</td>\n",
              "      <td>California</td>\n",
              "      <td>5277</td>\n",
              "      <td>117</td>\n",
              "      <td>711.0</td>\n",
              "      <td>28.0</td>\n",
              "    </tr>\n",
              "    <tr>\n",
              "      <th>2020-04-05</th>\n",
              "      <td>Los Angeles</td>\n",
              "      <td>California</td>\n",
              "      <td>5940</td>\n",
              "      <td>132</td>\n",
              "      <td>663.0</td>\n",
              "      <td>15.0</td>\n",
              "    </tr>\n",
              "    <tr>\n",
              "      <th>2020-04-06</th>\n",
              "      <td>Los Angeles</td>\n",
              "      <td>California</td>\n",
              "      <td>6360</td>\n",
              "      <td>147</td>\n",
              "      <td>420.0</td>\n",
              "      <td>15.0</td>\n",
              "    </tr>\n",
              "    <tr>\n",
              "      <th>2020-04-07</th>\n",
              "      <td>Los Angeles</td>\n",
              "      <td>California</td>\n",
              "      <td>6910</td>\n",
              "      <td>169</td>\n",
              "      <td>550.0</td>\n",
              "      <td>22.0</td>\n",
              "    </tr>\n",
              "    <tr>\n",
              "      <th>2020-04-08</th>\n",
              "      <td>Los Angeles</td>\n",
              "      <td>California</td>\n",
              "      <td>7530</td>\n",
              "      <td>198</td>\n",
              "      <td>620.0</td>\n",
              "      <td>29.0</td>\n",
              "    </tr>\n",
              "    <tr>\n",
              "      <th>2020-04-09</th>\n",
              "      <td>Los Angeles</td>\n",
              "      <td>California</td>\n",
              "      <td>7955</td>\n",
              "      <td>223</td>\n",
              "      <td>425.0</td>\n",
              "      <td>25.0</td>\n",
              "    </tr>\n",
              "    <tr>\n",
              "      <th>2020-04-10</th>\n",
              "      <td>Los Angeles</td>\n",
              "      <td>California</td>\n",
              "      <td>8430</td>\n",
              "      <td>241</td>\n",
              "      <td>475.0</td>\n",
              "      <td>18.0</td>\n",
              "    </tr>\n",
              "    <tr>\n",
              "      <th>2020-04-11</th>\n",
              "      <td>Los Angeles</td>\n",
              "      <td>California</td>\n",
              "      <td>8873</td>\n",
              "      <td>265</td>\n",
              "      <td>443.0</td>\n",
              "      <td>24.0</td>\n",
              "    </tr>\n",
              "    <tr>\n",
              "      <th>2020-04-12</th>\n",
              "      <td>Los Angeles</td>\n",
              "      <td>California</td>\n",
              "      <td>9192</td>\n",
              "      <td>296</td>\n",
              "      <td>319.0</td>\n",
              "      <td>31.0</td>\n",
              "    </tr>\n",
              "    <tr>\n",
              "      <th>2020-04-13</th>\n",
              "      <td>Los Angeles</td>\n",
              "      <td>California</td>\n",
              "      <td>9420</td>\n",
              "      <td>320</td>\n",
              "      <td>228.0</td>\n",
              "      <td>24.0</td>\n",
              "    </tr>\n",
              "    <tr>\n",
              "      <th>2020-04-14</th>\n",
              "      <td>Los Angeles</td>\n",
              "      <td>California</td>\n",
              "      <td>10047</td>\n",
              "      <td>360</td>\n",
              "      <td>627.0</td>\n",
              "      <td>40.0</td>\n",
              "    </tr>\n",
              "    <tr>\n",
              "      <th>2020-04-15</th>\n",
              "      <td>Los Angeles</td>\n",
              "      <td>California</td>\n",
              "      <td>10496</td>\n",
              "      <td>402</td>\n",
              "      <td>449.0</td>\n",
              "      <td>42.0</td>\n",
              "    </tr>\n",
              "    <tr>\n",
              "      <th>2020-04-16</th>\n",
              "      <td>Los Angeles</td>\n",
              "      <td>California</td>\n",
              "      <td>10854</td>\n",
              "      <td>455</td>\n",
              "      <td>358.0</td>\n",
              "      <td>53.0</td>\n",
              "    </tr>\n",
              "    <tr>\n",
              "      <th>2020-04-17</th>\n",
              "      <td>Los Angeles</td>\n",
              "      <td>California</td>\n",
              "      <td>11391</td>\n",
              "      <td>495</td>\n",
              "      <td>537.0</td>\n",
              "      <td>40.0</td>\n",
              "    </tr>\n",
              "    <tr>\n",
              "      <th>2020-04-18</th>\n",
              "      <td>Los Angeles</td>\n",
              "      <td>California</td>\n",
              "      <td>12021</td>\n",
              "      <td>576</td>\n",
              "      <td>630.0</td>\n",
              "      <td>81.0</td>\n",
              "    </tr>\n",
              "    <tr>\n",
              "      <th>2020-04-19</th>\n",
              "      <td>Los Angeles</td>\n",
              "      <td>California</td>\n",
              "      <td>12341</td>\n",
              "      <td>600</td>\n",
              "      <td>320.0</td>\n",
              "      <td>24.0</td>\n",
              "    </tr>\n",
              "    <tr>\n",
              "      <th>2020-04-20</th>\n",
              "      <td>Los Angeles</td>\n",
              "      <td>California</td>\n",
              "      <td>13816</td>\n",
              "      <td>617</td>\n",
              "      <td>1475.0</td>\n",
              "      <td>17.0</td>\n",
              "    </tr>\n",
              "    <tr>\n",
              "      <th>2020-04-21</th>\n",
              "      <td>Los Angeles</td>\n",
              "      <td>California</td>\n",
              "      <td>15140</td>\n",
              "      <td>663</td>\n",
              "      <td>1324.0</td>\n",
              "      <td>46.0</td>\n",
              "    </tr>\n",
              "    <tr>\n",
              "      <th>2020-04-22</th>\n",
              "      <td>Los Angeles</td>\n",
              "      <td>California</td>\n",
              "      <td>16435</td>\n",
              "      <td>729</td>\n",
              "      <td>1295.0</td>\n",
              "      <td>66.0</td>\n",
              "    </tr>\n",
              "    <tr>\n",
              "      <th>2020-04-23</th>\n",
              "      <td>Los Angeles</td>\n",
              "      <td>California</td>\n",
              "      <td>17508</td>\n",
              "      <td>797</td>\n",
              "      <td>1073.0</td>\n",
              "      <td>68.0</td>\n",
              "    </tr>\n",
              "    <tr>\n",
              "      <th>2020-04-24</th>\n",
              "      <td>Los Angeles</td>\n",
              "      <td>California</td>\n",
              "      <td>18545</td>\n",
              "      <td>850</td>\n",
              "      <td>1037.0</td>\n",
              "      <td>53.0</td>\n",
              "    </tr>\n",
              "    <tr>\n",
              "      <th>2020-04-25</th>\n",
              "      <td>Los Angeles</td>\n",
              "      <td>California</td>\n",
              "      <td>19107</td>\n",
              "      <td>895</td>\n",
              "      <td>562.0</td>\n",
              "      <td>45.0</td>\n",
              "    </tr>\n",
              "    <tr>\n",
              "      <th>2020-04-26</th>\n",
              "      <td>Los Angeles</td>\n",
              "      <td>California</td>\n",
              "      <td>19528</td>\n",
              "      <td>913</td>\n",
              "      <td>421.0</td>\n",
              "      <td>18.0</td>\n",
              "    </tr>\n",
              "    <tr>\n",
              "      <th>2020-04-27</th>\n",
              "      <td>Los Angeles</td>\n",
              "      <td>California</td>\n",
              "      <td>20417</td>\n",
              "      <td>942</td>\n",
              "      <td>889.0</td>\n",
              "      <td>29.0</td>\n",
              "    </tr>\n",
              "    <tr>\n",
              "      <th>2020-04-28</th>\n",
              "      <td>Los Angeles</td>\n",
              "      <td>California</td>\n",
              "      <td>20976</td>\n",
              "      <td>1000</td>\n",
              "      <td>559.0</td>\n",
              "      <td>58.0</td>\n",
              "    </tr>\n",
              "    <tr>\n",
              "      <th>2020-04-29</th>\n",
              "      <td>Los Angeles</td>\n",
              "      <td>California</td>\n",
              "      <td>22485</td>\n",
              "      <td>1056</td>\n",
              "      <td>1509.0</td>\n",
              "      <td>56.0</td>\n",
              "    </tr>\n",
              "    <tr>\n",
              "      <th>2020-04-30</th>\n",
              "      <td>Los Angeles</td>\n",
              "      <td>California</td>\n",
              "      <td>23182</td>\n",
              "      <td>1111</td>\n",
              "      <td>697.0</td>\n",
              "      <td>55.0</td>\n",
              "    </tr>\n",
              "  </tbody>\n",
              "</table>\n",
              "</div>"
            ],
            "text/plain": [
              "                 county       state  ...  cases_per_day  deaths_per_day\n",
              "date                                 ...                               \n",
              "2020-04-01  Los Angeles  California  ...          507.0            11.0\n",
              "2020-04-02  Los Angeles  California  ...          527.0            13.0\n",
              "2020-04-03  Los Angeles  California  ...          521.0            11.0\n",
              "2020-04-04  Los Angeles  California  ...          711.0            28.0\n",
              "2020-04-05  Los Angeles  California  ...          663.0            15.0\n",
              "2020-04-06  Los Angeles  California  ...          420.0            15.0\n",
              "2020-04-07  Los Angeles  California  ...          550.0            22.0\n",
              "2020-04-08  Los Angeles  California  ...          620.0            29.0\n",
              "2020-04-09  Los Angeles  California  ...          425.0            25.0\n",
              "2020-04-10  Los Angeles  California  ...          475.0            18.0\n",
              "2020-04-11  Los Angeles  California  ...          443.0            24.0\n",
              "2020-04-12  Los Angeles  California  ...          319.0            31.0\n",
              "2020-04-13  Los Angeles  California  ...          228.0            24.0\n",
              "2020-04-14  Los Angeles  California  ...          627.0            40.0\n",
              "2020-04-15  Los Angeles  California  ...          449.0            42.0\n",
              "2020-04-16  Los Angeles  California  ...          358.0            53.0\n",
              "2020-04-17  Los Angeles  California  ...          537.0            40.0\n",
              "2020-04-18  Los Angeles  California  ...          630.0            81.0\n",
              "2020-04-19  Los Angeles  California  ...          320.0            24.0\n",
              "2020-04-20  Los Angeles  California  ...         1475.0            17.0\n",
              "2020-04-21  Los Angeles  California  ...         1324.0            46.0\n",
              "2020-04-22  Los Angeles  California  ...         1295.0            66.0\n",
              "2020-04-23  Los Angeles  California  ...         1073.0            68.0\n",
              "2020-04-24  Los Angeles  California  ...         1037.0            53.0\n",
              "2020-04-25  Los Angeles  California  ...          562.0            45.0\n",
              "2020-04-26  Los Angeles  California  ...          421.0            18.0\n",
              "2020-04-27  Los Angeles  California  ...          889.0            29.0\n",
              "2020-04-28  Los Angeles  California  ...          559.0            58.0\n",
              "2020-04-29  Los Angeles  California  ...         1509.0            56.0\n",
              "2020-04-30  Los Angeles  California  ...          697.0            55.0\n",
              "\n",
              "[30 rows x 6 columns]"
            ]
          },
          "metadata": {
            "tags": []
          },
          "execution_count": 40
        }
      ]
    },
    {
      "cell_type": "markdown",
      "metadata": {
        "id": "jxyCTjCa-1Pk",
        "colab_type": "text"
      },
      "source": [
        "**18. Find the mean [cases per day] for April**"
      ]
    },
    {
      "cell_type": "code",
      "metadata": {
        "id": "TjRus8chvpUR",
        "colab_type": "code",
        "colab": {
          "base_uri": "https://localhost:8080/",
          "height": 288
        },
        "outputId": "ff587a4b-a760-4c7e-92f3-c125b4e7e20e"
      },
      "source": [
        "april_la_ca_data = la_ca_data['2020-04-01':'2020-04-30']\n",
        "april_la_ca_data.describe()"
      ],
      "execution_count": 28,
      "outputs": [
        {
          "output_type": "execute_result",
          "data": {
            "text/html": [
              "<div>\n",
              "<style scoped>\n",
              "    .dataframe tbody tr th:only-of-type {\n",
              "        vertical-align: middle;\n",
              "    }\n",
              "\n",
              "    .dataframe tbody tr th {\n",
              "        vertical-align: top;\n",
              "    }\n",
              "\n",
              "    .dataframe thead th {\n",
              "        text-align: right;\n",
              "    }\n",
              "</style>\n",
              "<table border=\"1\" class=\"dataframe\">\n",
              "  <thead>\n",
              "    <tr style=\"text-align: right;\">\n",
              "      <th></th>\n",
              "      <th>cases</th>\n",
              "      <th>deaths</th>\n",
              "      <th>cases_per_day</th>\n",
              "      <th>deaths_per_day</th>\n",
              "    </tr>\n",
              "  </thead>\n",
              "  <tbody>\n",
              "    <tr>\n",
              "      <th>count</th>\n",
              "      <td>30.000000</td>\n",
              "      <td>30.000000</td>\n",
              "      <td>30.000000</td>\n",
              "      <td>30.000000</td>\n",
              "    </tr>\n",
              "    <tr>\n",
              "      <th>mean</th>\n",
              "      <td>12076.833333</td>\n",
              "      <td>493.366667</td>\n",
              "      <td>672.366667</td>\n",
              "      <td>35.233333</td>\n",
              "    </tr>\n",
              "    <tr>\n",
              "      <th>std</th>\n",
              "      <td>5903.846824</td>\n",
              "      <td>333.233943</td>\n",
              "      <td>347.910460</td>\n",
              "      <td>19.126950</td>\n",
              "    </tr>\n",
              "    <tr>\n",
              "      <th>min</th>\n",
              "      <td>3518.000000</td>\n",
              "      <td>65.000000</td>\n",
              "      <td>228.000000</td>\n",
              "      <td>11.000000</td>\n",
              "    </tr>\n",
              "    <tr>\n",
              "      <th>25%</th>\n",
              "      <td>7636.250000</td>\n",
              "      <td>204.250000</td>\n",
              "      <td>444.500000</td>\n",
              "      <td>19.000000</td>\n",
              "    </tr>\n",
              "    <tr>\n",
              "      <th>50%</th>\n",
              "      <td>10675.000000</td>\n",
              "      <td>428.500000</td>\n",
              "      <td>554.500000</td>\n",
              "      <td>29.000000</td>\n",
              "    </tr>\n",
              "    <tr>\n",
              "      <th>75%</th>\n",
              "      <td>17239.750000</td>\n",
              "      <td>780.000000</td>\n",
              "      <td>707.500000</td>\n",
              "      <td>51.250000</td>\n",
              "    </tr>\n",
              "    <tr>\n",
              "      <th>max</th>\n",
              "      <td>23182.000000</td>\n",
              "      <td>1111.000000</td>\n",
              "      <td>1509.000000</td>\n",
              "      <td>81.000000</td>\n",
              "    </tr>\n",
              "  </tbody>\n",
              "</table>\n",
              "</div>"
            ],
            "text/plain": [
              "              cases       deaths  cases_per_day  deaths_per_day\n",
              "count     30.000000    30.000000      30.000000       30.000000\n",
              "mean   12076.833333   493.366667     672.366667       35.233333\n",
              "std     5903.846824   333.233943     347.910460       19.126950\n",
              "min     3518.000000    65.000000     228.000000       11.000000\n",
              "25%     7636.250000   204.250000     444.500000       19.000000\n",
              "50%    10675.000000   428.500000     554.500000       29.000000\n",
              "75%    17239.750000   780.000000     707.500000       51.250000\n",
              "max    23182.000000  1111.000000    1509.000000       81.000000"
            ]
          },
          "metadata": {
            "tags": []
          },
          "execution_count": 28
        }
      ]
    },
    {
      "cell_type": "markdown",
      "metadata": {
        "id": "OGJLCz-vz_ZV",
        "colab_type": "text"
      },
      "source": [
        "**19. Plot cases per day for the month of April in Los Angeles county**"
      ]
    },
    {
      "cell_type": "code",
      "metadata": {
        "id": "egdgDn3tzSGM",
        "colab_type": "code",
        "colab": {
          "base_uri": "https://localhost:8080/",
          "height": 330
        },
        "outputId": "78f8edf9-b27d-43de-993b-b41e2c9bdd1d"
      },
      "source": [
        "la_cases_plot = april_la_ca_data['cases_per_day'].plot(title='LA County Cases per Day')\n",
        "fig = la_cases_plot.get_figure()\n",
        "fig.set_size_inches(8,4)"
      ],
      "execution_count": 21,
      "outputs": [
        {
          "output_type": "display_data",
          "data": {
            "image/png": "[encoded data removed]",
            "text/plain": [
              "<Figure size 576x288 with 1 Axes>"
            ]
          },
          "metadata": {
            "tags": [],
            "needs_background": "light"
          }
        }
      ]
    },
    {
      "cell_type": "markdown",
      "metadata": {
        "id": "j5g2cTMB0m2_",
        "colab_type": "text"
      },
      "source": [
        "**20. Plot Deaths per Day for the month of March**"
      ]
    },
    {
      "cell_type": "code",
      "metadata": {
        "id": "nUCK6Vwj0zu3",
        "colab_type": "code",
        "colab": {
          "base_uri": "https://localhost:8080/",
          "height": 330
        },
        "outputId": "aca977e5-bbdd-48cc-cc39-1625a8b23d4e"
      },
      "source": [
        "march_la_ca_data = la_ca_data['2020-03-01':'2020-03-31']\n",
        "la_march_plot = march_la_ca_data['deaths_per_day'].plot(title='LA County Deaths per Day')\n",
        "fig = la_march_plot.get_figure()\n",
        "fig.set_size_inches(8,4)"
      ],
      "execution_count": 22,
      "outputs": [
        {
          "output_type": "display_data",
          "data": {
            "image/png": "[encoded data removed]",
            "text/plain": [
              "<Figure size 576x288 with 1 Axes>"
            ]
          },
          "metadata": {
            "tags": [],
            "needs_background": "light"
          }
        }
      ]
    },
    {
      "cell_type": "markdown",
      "metadata": {
        "id": "uH5usgGt9-c4",
        "colab_type": "text"
      },
      "source": [
        "**Armed with basics in Pandas - Answer your own questions about the data!  Happy exploring**\n",
        "\n",
        "Don't hesitate to send me suggestions / a message / or make change requests.  There is more than one way to do everything here!"
      ]
    },
    {
      "cell_type": "code",
      "metadata": {
        "id": "4yM4uFSD-F8G",
        "colab_type": "code",
        "colab": {}
      },
      "source": [
        ""
      ],
      "execution_count": 0,
      "outputs": []
    }
  ]
}
