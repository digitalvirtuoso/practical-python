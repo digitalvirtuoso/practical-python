{
  "nbformat": 4,
  "nbformat_minor": 0,
  "metadata": {
    "colab": {
      "name": "Numpy Exercises",
      "provenance": [],
      "collapsed_sections": []
    },
    "kernelspec": {
      "name": "python3",
      "display_name": "Python 3"
    }
  },
  "cells": [
    {
      "cell_type": "markdown",
      "metadata": {
        "id": "eMdSKtYSCyuK",
        "colab_type": "text"
      },
      "source": [
        "20 Basic Numpy Exercises - From Array Creation to making an array Immutable"
      ]
    },
    {
      "cell_type": "code",
      "metadata": {
        "id": "FiVH4UMGCqbo",
        "colab_type": "code",
        "colab": {}
      },
      "source": [
        "import numpy as np"
      ],
      "execution_count": 0,
      "outputs": []
    },
    {
      "cell_type": "markdown",
      "metadata": {
        "id": "GY3gfKrDC71b",
        "colab_type": "text"
      },
      "source": [
        "1. Check your version"
      ]
    },
    {
      "cell_type": "code",
      "metadata": {
        "id": "g2p4mkoyC6PL",
        "colab_type": "code",
        "outputId": "701aa4df-b7de-4c77-babe-8b316edd69af",
        "colab": {
          "base_uri": "https://localhost:8080/",
          "height": 35
        }
      },
      "source": [
        "np.__version__"
      ],
      "execution_count": 2,
      "outputs": [
        {
          "output_type": "execute_result",
          "data": {
            "text/plain": [
              "'1.18.4'"
            ]
          },
          "metadata": {
            "tags": []
          },
          "execution_count": 2
        }
      ]
    },
    {
      "cell_type": "markdown",
      "metadata": {
        "id": "MDgUf_0jDDc9",
        "colab_type": "text"
      },
      "source": [
        "2. Create a 3x3 Array filled with zeroes"
      ]
    },
    {
      "cell_type": "code",
      "metadata": {
        "id": "D4TFoOtHDBWm",
        "colab_type": "code",
        "outputId": "81115347-b945-4855-da6a-2d607c7b7b10",
        "colab": {
          "base_uri": "https://localhost:8080/",
          "height": 69
        }
      },
      "source": [
        "arr_0 = np.zeros((3,3))\n",
        "arr_0"
      ],
      "execution_count": 3,
      "outputs": [
        {
          "output_type": "execute_result",
          "data": {
            "text/plain": [
              "array([[0., 0., 0.],\n",
              "       [0., 0., 0.],\n",
              "       [0., 0., 0.]])"
            ]
          },
          "metadata": {
            "tags": []
          },
          "execution_count": 3
        }
      ]
    },
    {
      "cell_type": "markdown",
      "metadata": {
        "id": "omy3QhstDdmB",
        "colab_type": "text"
      },
      "source": [
        "3. Create a 3x3 Array filled with the number 7"
      ]
    },
    {
      "cell_type": "code",
      "metadata": {
        "id": "cbiiRotODZrQ",
        "colab_type": "code",
        "outputId": "04172a7b-f51a-48e4-fac3-5b329eb52084",
        "colab": {
          "base_uri": "https://localhost:8080/",
          "height": 69
        }
      },
      "source": [
        "arr_7 = np.full((3,3),7)\n",
        "arr_7"
      ],
      "execution_count": 4,
      "outputs": [
        {
          "output_type": "execute_result",
          "data": {
            "text/plain": [
              "array([[7, 7, 7],\n",
              "       [7, 7, 7],\n",
              "       [7, 7, 7]])"
            ]
          },
          "metadata": {
            "tags": []
          },
          "execution_count": 4
        }
      ]
    },
    {
      "cell_type": "markdown",
      "metadata": {
        "id": "tRj_0nqGDo54",
        "colab_type": "text"
      },
      "source": [
        "4. Create a vector of at least size 5 filled with Random Values between -1 and 1"
      ]
    },
    {
      "cell_type": "code",
      "metadata": {
        "id": "rBNcPivfDlIB",
        "colab_type": "code",
        "outputId": "7bf80602-2f4c-4a78-f607-0c1505476b98",
        "colab": {
          "base_uri": "https://localhost:8080/",
          "height": 35
        }
      },
      "source": [
        "v = np.random.uniform(-1,1,(1,5))\n",
        "v"
      ],
      "execution_count": 5,
      "outputs": [
        {
          "output_type": "execute_result",
          "data": {
            "text/plain": [
              "array([[-0.32704603,  0.64496337, -0.09797937, -0.49406484,  0.60073107]])"
            ]
          },
          "metadata": {
            "tags": []
          },
          "execution_count": 5
        }
      ]
    },
    {
      "cell_type": "markdown",
      "metadata": {
        "id": "oX8wMvKHEpj7",
        "colab_type": "text"
      },
      "source": [
        "5. Multiply the two matricies (A and B) below.  (Assign the answer to the variable ANS) - Run the cell below to check your answer"
      ]
    },
    {
      "cell_type": "code",
      "metadata": {
        "id": "zmDsMgngET3Z",
        "colab_type": "code",
        "colab": {}
      },
      "source": [
        "A = np.array([[.15,.55,.7]])\n",
        "B = np.array([[1,2,3],[4,5,6],[7,8,9]])"
      ],
      "execution_count": 0,
      "outputs": []
    },
    {
      "cell_type": "code",
      "metadata": {
        "id": "8FZ9VQoEFeT2",
        "colab_type": "code",
        "colab": {}
      },
      "source": [
        "ans = np.dot(A,B)"
      ],
      "execution_count": 0,
      "outputs": []
    },
    {
      "cell_type": "code",
      "metadata": {
        "id": "kOj-s1Zh1jGQ",
        "colab_type": "code",
        "outputId": "6494849e-65a0-4388-d72c-55651b66bf92",
        "colab": {
          "base_uri": "https://localhost:8080/",
          "height": 35
        }
      },
      "source": [
        "# Checking the answer!\n",
        "assert np.sum(ans) == 25.95,'Try again'\n",
        "print('Good job!', ans)"
      ],
      "execution_count": 8,
      "outputs": [
        {
          "output_type": "stream",
          "text": [
            "Good job! [[ 7.25  8.65 10.05]]\n"
          ],
          "name": "stdout"
        }
      ]
    },
    {
      "cell_type": "markdown",
      "metadata": {
        "id": "0YnJi3rJGrtI",
        "colab_type": "text"
      },
      "source": [
        "6. Combine the [ans] array created in #5 with the following 2 arrays below."
      ]
    },
    {
      "cell_type": "code",
      "metadata": {
        "id": "e2PYHY9B13l_",
        "colab_type": "code",
        "colab": {}
      },
      "source": [
        "first_row = np.array([[0.1, 0.1, 9.9]])\n",
        "last_row = np.array([[9.9, 9.9, 0.1]])"
      ],
      "execution_count": 0,
      "outputs": []
    },
    {
      "cell_type": "code",
      "metadata": {
        "id": "clumLdOIGBWF",
        "colab_type": "code",
        "outputId": "1589e4bc-b479-4eed-8632-9791d7d1c3fd",
        "colab": {
          "base_uri": "https://localhost:8080/",
          "height": 69
        }
      },
      "source": [
        "new_ans = np.vstack((first_row, ans ,last_row))\n",
        "new_ans"
      ],
      "execution_count": 10,
      "outputs": [
        {
          "output_type": "execute_result",
          "data": {
            "text/plain": [
              "array([[ 0.1 ,  0.1 ,  9.9 ],\n",
              "       [ 7.25,  8.65, 10.05],\n",
              "       [ 9.9 ,  9.9 ,  0.1 ]])"
            ]
          },
          "metadata": {
            "tags": []
          },
          "execution_count": 10
        }
      ]
    },
    {
      "cell_type": "code",
      "metadata": {
        "id": "loiKI3GK3BeE",
        "colab_type": "code",
        "outputId": "1e742bcd-41c5-4227-bb46-11b52678134a",
        "colab": {
          "base_uri": "https://localhost:8080/",
          "height": 69
        }
      },
      "source": [
        "new_ans = np.concatenate((first_row, ans ,last_row),axis=0)\n",
        "new_ans"
      ],
      "execution_count": 11,
      "outputs": [
        {
          "output_type": "execute_result",
          "data": {
            "text/plain": [
              "array([[ 0.1 ,  0.1 ,  9.9 ],\n",
              "       [ 7.25,  8.65, 10.05],\n",
              "       [ 9.9 ,  9.9 ,  0.1 ]])"
            ]
          },
          "metadata": {
            "tags": []
          },
          "execution_count": 11
        }
      ]
    },
    {
      "cell_type": "markdown",
      "metadata": {
        "id": "EL27ehnpJeUH",
        "colab_type": "text"
      },
      "source": [
        "7. Swap the first and last columns in the combined array."
      ]
    },
    {
      "cell_type": "code",
      "metadata": {
        "id": "yv4zks8KJjQ2",
        "colab_type": "code",
        "outputId": "59f85011-612e-4402-a2df-771867a3b74f",
        "colab": {
          "base_uri": "https://localhost:8080/",
          "height": 69
        }
      },
      "source": [
        "swapped_ans = np.concatenate(\n",
        "    (new_ans[:,2].reshape(3,1),new_ans[:,1].reshape(3,1),new_ans[:,0].reshape(3,1)),axis=1)\n",
        "swapped_ans"
      ],
      "execution_count": 12,
      "outputs": [
        {
          "output_type": "execute_result",
          "data": {
            "text/plain": [
              "array([[ 9.9 ,  0.1 ,  0.1 ],\n",
              "       [10.05,  8.65,  7.25],\n",
              "       [ 0.1 ,  9.9 ,  9.9 ]])"
            ]
          },
          "metadata": {
            "tags": []
          },
          "execution_count": 12
        }
      ]
    },
    {
      "cell_type": "markdown",
      "metadata": {
        "id": "O7Sx84hyJj50",
        "colab_type": "text"
      },
      "source": [
        "8. Swap the first and the middle row in the combined array"
      ]
    },
    {
      "cell_type": "code",
      "metadata": {
        "id": "1Vf7zinuJklS",
        "colab_type": "code",
        "outputId": "e7ae2766-3ca3-42d0-81e4-f95b34d6e24f",
        "colab": {
          "base_uri": "https://localhost:8080/",
          "height": 69
        }
      },
      "source": [
        "row_swap = np.vstack((swapped_ans[1,:],swapped_ans[0,:],swapped_ans[2,:]))\n",
        "row_swap"
      ],
      "execution_count": 13,
      "outputs": [
        {
          "output_type": "execute_result",
          "data": {
            "text/plain": [
              "array([[10.05,  8.65,  7.25],\n",
              "       [ 9.9 ,  0.1 ,  0.1 ],\n",
              "       [ 0.1 ,  9.9 ,  9.9 ]])"
            ]
          },
          "metadata": {
            "tags": []
          },
          "execution_count": 13
        }
      ]
    },
    {
      "cell_type": "markdown",
      "metadata": {
        "id": "kVsk92t7HENc",
        "colab_type": "text"
      },
      "source": [
        "9. Save the combined array from #8 to file."
      ]
    },
    {
      "cell_type": "code",
      "metadata": {
        "id": "-X4QNhXU7lRK",
        "colab_type": "code",
        "colab": {}
      },
      "source": [
        "np.savetxt('my_txt_array.txt', row_swap, delimiter=' ')"
      ],
      "execution_count": 0,
      "outputs": []
    },
    {
      "cell_type": "code",
      "metadata": {
        "id": "IQRs0uhmHMtW",
        "colab_type": "code",
        "colab": {}
      },
      "source": [
        "np.savetxt('my_csv_array.csv', row_swap, delimiter=',')"
      ],
      "execution_count": 0,
      "outputs": []
    },
    {
      "cell_type": "markdown",
      "metadata": {
        "id": "mBw0SDE7HNTi",
        "colab_type": "text"
      },
      "source": [
        "10. Load the saved array from file into a new array."
      ]
    },
    {
      "cell_type": "code",
      "metadata": {
        "id": "Hl2mJaWIHUaU",
        "colab_type": "code",
        "colab": {
          "base_uri": "https://localhost:8080/",
          "height": 69
        },
        "outputId": "c71cbf06-e92f-400a-d4b9-3d9214017cb8"
      },
      "source": [
        "load_txt = np.loadtxt('my_txt_array.txt')\n",
        "load_txt"
      ],
      "execution_count": 16,
      "outputs": [
        {
          "output_type": "execute_result",
          "data": {
            "text/plain": [
              "array([[10.05,  8.65,  7.25],\n",
              "       [ 9.9 ,  0.1 ,  0.1 ],\n",
              "       [ 0.1 ,  9.9 ,  9.9 ]])"
            ]
          },
          "metadata": {
            "tags": []
          },
          "execution_count": 16
        }
      ]
    },
    {
      "cell_type": "code",
      "metadata": {
        "id": "HubTnmE67760",
        "colab_type": "code",
        "colab": {
          "base_uri": "https://localhost:8080/",
          "height": 69
        },
        "outputId": "ebf8071f-d9d6-4dc2-9bdd-ea97cfbecd97"
      },
      "source": [
        "load_csv = np.genfromtxt('my_csv_array.csv', delimiter=',')\n",
        "load_csv"
      ],
      "execution_count": 17,
      "outputs": [
        {
          "output_type": "execute_result",
          "data": {
            "text/plain": [
              "array([[10.05,  8.65,  7.25],\n",
              "       [ 9.9 ,  0.1 ,  0.1 ],\n",
              "       [ 0.1 ,  9.9 ,  9.9 ]])"
            ]
          },
          "metadata": {
            "tags": []
          },
          "execution_count": 17
        }
      ]
    },
    {
      "cell_type": "markdown",
      "metadata": {
        "id": "HiZmZHxvHUzF",
        "colab_type": "text"
      },
      "source": [
        "11. Convert all array elements to float32"
      ]
    },
    {
      "cell_type": "code",
      "metadata": {
        "id": "AUPnyfl3Htsn",
        "colab_type": "code",
        "colab": {}
      },
      "source": [
        "fp32_arr = row_swap.astype(np.float32)"
      ],
      "execution_count": 0,
      "outputs": []
    },
    {
      "cell_type": "markdown",
      "metadata": {
        "id": "jeRWPICJHuCc",
        "colab_type": "text"
      },
      "source": [
        "12. Find the mean of the middle row of the following array."
      ]
    },
    {
      "cell_type": "code",
      "metadata": {
        "id": "y2sU7jBcVSee",
        "colab_type": "code",
        "colab": {
          "base_uri": "https://localhost:8080/",
          "height": 138
        },
        "outputId": "b7f35130-0765-44f0-cdd5-8bce4c438b27"
      },
      "source": [
        "# For Questions 12-19 use the following array\n",
        "arr = np.random.randint(1,10,(7,7))\n",
        "arr"
      ],
      "execution_count": 19,
      "outputs": [
        {
          "output_type": "execute_result",
          "data": {
            "text/plain": [
              "array([[3, 6, 8, 3, 9, 5, 3],\n",
              "       [8, 6, 8, 6, 7, 7, 9],\n",
              "       [7, 4, 6, 8, 9, 5, 1],\n",
              "       [1, 2, 2, 1, 9, 4, 2],\n",
              "       [8, 9, 2, 1, 4, 3, 4],\n",
              "       [8, 7, 3, 6, 8, 7, 3],\n",
              "       [4, 2, 1, 6, 4, 8, 6]])"
            ]
          },
          "metadata": {
            "tags": []
          },
          "execution_count": 19
        }
      ]
    },
    {
      "cell_type": "code",
      "metadata": {
        "id": "GXC-rDnQH6A0",
        "colab_type": "code",
        "colab": {
          "base_uri": "https://localhost:8080/",
          "height": 35
        },
        "outputId": "85a60323-f523-4537-b149-22a402e19c48"
      },
      "source": [
        "arr[len(arr)//2,:].mean()"
      ],
      "execution_count": 20,
      "outputs": [
        {
          "output_type": "execute_result",
          "data": {
            "text/plain": [
              "3.0"
            ]
          },
          "metadata": {
            "tags": []
          },
          "execution_count": 20
        }
      ]
    },
    {
      "cell_type": "markdown",
      "metadata": {
        "id": "5EbuyanKH5Wp",
        "colab_type": "text"
      },
      "source": [
        "13. Find the Variance of the array."
      ]
    },
    {
      "cell_type": "code",
      "metadata": {
        "id": "BLL70Jz-H-GE",
        "colab_type": "code",
        "colab": {
          "base_uri": "https://localhost:8080/",
          "height": 35
        },
        "outputId": "377a9324-2935-4c88-b7d5-f568de91a650"
      },
      "source": [
        "arr.var()"
      ],
      "execution_count": 21,
      "outputs": [
        {
          "output_type": "execute_result",
          "data": {
            "text/plain": [
              "6.789670970428988"
            ]
          },
          "metadata": {
            "tags": []
          },
          "execution_count": 21
        }
      ]
    },
    {
      "cell_type": "markdown",
      "metadata": {
        "id": "AJNCtHopH_A0",
        "colab_type": "text"
      },
      "source": [
        "14. Slice the array into a new array of just it's middle column."
      ]
    },
    {
      "cell_type": "code",
      "metadata": {
        "id": "UUXFbAGXIGlt",
        "colab_type": "code",
        "colab": {
          "base_uri": "https://localhost:8080/",
          "height": 35
        },
        "outputId": "667435c3-46c7-4335-8f4f-332e366c0f12"
      },
      "source": [
        "arr[:,len(arr[0])//2]\n",
        "# If you need it to still be the same shape, you would want to reshape it with\n",
        "# .reshape(len(arr[0]),1)"
      ],
      "execution_count": 22,
      "outputs": [
        {
          "output_type": "execute_result",
          "data": {
            "text/plain": [
              "array([3, 6, 8, 1, 1, 6, 6])"
            ]
          },
          "metadata": {
            "tags": []
          },
          "execution_count": 22
        }
      ]
    },
    {
      "cell_type": "markdown",
      "metadata": {
        "id": "LHarnAoYIaXz",
        "colab_type": "text"
      },
      "source": [
        "15. Create a new Array of all the elements on the left to right, top to bottom, diagnal."
      ]
    },
    {
      "cell_type": "code",
      "metadata": {
        "id": "8Qj9--CmUSF3",
        "colab_type": "code",
        "colab": {
          "base_uri": "https://localhost:8080/",
          "height": 35
        },
        "outputId": "2b6c4932-0094-4eec-999f-ed1689f25aaf"
      },
      "source": [
        "np.diag(arr)"
      ],
      "execution_count": 23,
      "outputs": [
        {
          "output_type": "execute_result",
          "data": {
            "text/plain": [
              "array([3, 6, 6, 1, 4, 7, 6])"
            ]
          },
          "metadata": {
            "tags": []
          },
          "execution_count": 23
        }
      ]
    },
    {
      "cell_type": "markdown",
      "metadata": {
        "id": "Hz3DyOHrInL_",
        "colab_type": "text"
      },
      "source": [
        "16. Find the most frequently occuring value in the array."
      ]
    },
    {
      "cell_type": "code",
      "metadata": {
        "id": "obOjRKimIm9x",
        "colab_type": "code",
        "colab": {
          "base_uri": "https://localhost:8080/",
          "height": 35
        },
        "outputId": "e48dcb19-4e17-449c-b556-b3c093e617f8"
      },
      "source": [
        "np.argmax(np.bincount(arr.flatten()))"
      ],
      "execution_count": 24,
      "outputs": [
        {
          "output_type": "execute_result",
          "data": {
            "text/plain": [
              "8"
            ]
          },
          "metadata": {
            "tags": []
          },
          "execution_count": 24
        }
      ]
    },
    {
      "cell_type": "markdown",
      "metadata": {
        "id": "iEaiGazWIuho",
        "colab_type": "text"
      },
      "source": [
        "17. Normalize the array"
      ]
    },
    {
      "cell_type": "code",
      "metadata": {
        "id": "MdlWxvFbI9s1",
        "colab_type": "code",
        "colab": {
          "base_uri": "https://localhost:8080/",
          "height": 259
        },
        "outputId": "014dc2d2-766b-41b4-c43b-fa3cc3e8ea6a"
      },
      "source": [
        "norm_arr = arr / np.max(arr)\n",
        "norm_arr"
      ],
      "execution_count": 25,
      "outputs": [
        {
          "output_type": "execute_result",
          "data": {
            "text/plain": [
              "array([[0.33333333, 0.66666667, 0.88888889, 0.33333333, 1.        ,\n",
              "        0.55555556, 0.33333333],\n",
              "       [0.88888889, 0.66666667, 0.88888889, 0.66666667, 0.77777778,\n",
              "        0.77777778, 1.        ],\n",
              "       [0.77777778, 0.44444444, 0.66666667, 0.88888889, 1.        ,\n",
              "        0.55555556, 0.11111111],\n",
              "       [0.11111111, 0.22222222, 0.22222222, 0.11111111, 1.        ,\n",
              "        0.44444444, 0.22222222],\n",
              "       [0.88888889, 1.        , 0.22222222, 0.11111111, 0.44444444,\n",
              "        0.33333333, 0.44444444],\n",
              "       [0.88888889, 0.77777778, 0.33333333, 0.66666667, 0.88888889,\n",
              "        0.77777778, 0.33333333],\n",
              "       [0.44444444, 0.22222222, 0.11111111, 0.66666667, 0.44444444,\n",
              "        0.88888889, 0.66666667]])"
            ]
          },
          "metadata": {
            "tags": []
          },
          "execution_count": 25
        }
      ]
    },
    {
      "cell_type": "markdown",
      "metadata": {
        "id": "IKYO0V5-JKbV",
        "colab_type": "text"
      },
      "source": [
        "18. Round the normalized array down to the nearest int."
      ]
    },
    {
      "cell_type": "code",
      "metadata": {
        "id": "JZH3ehC4JZ5a",
        "colab_type": "code",
        "colab": {
          "base_uri": "https://localhost:8080/",
          "height": 138
        },
        "outputId": "8861b56e-dbe3-4090-8b68-3a351e4e1c9c"
      },
      "source": [
        "np.floor(norm_arr)"
      ],
      "execution_count": 26,
      "outputs": [
        {
          "output_type": "execute_result",
          "data": {
            "text/plain": [
              "array([[0., 0., 0., 0., 1., 0., 0.],\n",
              "       [0., 0., 0., 0., 0., 0., 1.],\n",
              "       [0., 0., 0., 0., 1., 0., 0.],\n",
              "       [0., 0., 0., 0., 1., 0., 0.],\n",
              "       [0., 1., 0., 0., 0., 0., 0.],\n",
              "       [0., 0., 0., 0., 0., 0., 0.],\n",
              "       [0., 0., 0., 0., 0., 0., 0.]])"
            ]
          },
          "metadata": {
            "tags": []
          },
          "execution_count": 26
        }
      ]
    },
    {
      "cell_type": "markdown",
      "metadata": {
        "id": "wtHZA8xlI-Fj",
        "colab_type": "text"
      },
      "source": [
        "19. Make the array Unmutable"
      ]
    },
    {
      "cell_type": "code",
      "metadata": {
        "id": "XNOyy_jAJJrA",
        "colab_type": "code",
        "colab": {}
      },
      "source": [
        "norm_arr.flags.writeable = False"
      ],
      "execution_count": 0,
      "outputs": []
    },
    {
      "cell_type": "markdown",
      "metadata": {
        "id": "EWXWqrsvIH0h",
        "colab_type": "text"
      },
      "source": [
        "20. What do you get when you multiply the following arrays `[True, True, False] * [False, False, True]`?"
      ]
    },
    {
      "cell_type": "code",
      "metadata": {
        "id": "pPtmWCHiJBIk",
        "colab_type": "code",
        "colab": {
          "base_uri": "https://localhost:8080/",
          "height": 69
        },
        "outputId": "43a51c8a-3caf-4731-bba0-b4d03d3d3935"
      },
      "source": [
        "arr = np.array([1,1,0])\n",
        "f_arr = arr == 1\n",
        "s_arr = arr < 1\n",
        "print(f_arr, s_arr)\n",
        "print()\n",
        "print(f_arr * s_arr)"
      ],
      "execution_count": 28,
      "outputs": [
        {
          "output_type": "stream",
          "text": [
            "[ True  True False] [False False  True]\n",
            "\n",
            "[False False False]\n"
          ],
          "name": "stdout"
        }
      ]
    }
  ]
}