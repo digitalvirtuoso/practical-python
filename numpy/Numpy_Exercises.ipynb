{
  "nbformat": 4,
  "nbformat_minor": 0,
  "metadata": {
    "colab": {
      "name": "Numpy Exercises",
      "provenance": [],
      "collapsed_sections": []
    },
    "kernelspec": {
      "name": "python3",
      "display_name": "Python 3"
    }
  },
  "cells": [
    {
      "cell_type": "markdown",
      "metadata": {
        "id": "eMdSKtYSCyuK",
        "colab_type": "text"
      },
      "source": [
        "**20 Basic Numpy Exercises - From Array Creation to making an array Immutable**"
      ]
    },
    {
      "cell_type": "code",
      "metadata": {
        "id": "FiVH4UMGCqbo",
        "colab_type": "code",
        "colab": {}
      },
      "source": [
        "import numpy as np"
      ],
      "execution_count": 0,
      "outputs": []
    },
    {
      "cell_type": "markdown",
      "metadata": {
        "id": "GY3gfKrDC71b",
        "colab_type": "text"
      },
      "source": [
        "**1. Check your version**"
      ]
    },
    {
      "cell_type": "code",
      "metadata": {
        "id": "g2p4mkoyC6PL",
        "colab_type": "code",
        "colab": {}
      },
      "source": [
        ""
      ],
      "execution_count": 0,
      "outputs": []
    },
    {
      "cell_type": "markdown",
      "metadata": {
        "id": "MDgUf_0jDDc9",
        "colab_type": "text"
      },
      "source": [
        "**2. Create a 3x3 Array filled with zeroes**"
      ]
    },
    {
      "cell_type": "code",
      "metadata": {
        "id": "D4TFoOtHDBWm",
        "colab_type": "code",
        "colab": {}
      },
      "source": [
        ""
      ],
      "execution_count": 0,
      "outputs": []
    },
    {
      "cell_type": "markdown",
      "metadata": {
        "id": "omy3QhstDdmB",
        "colab_type": "text"
      },
      "source": [
        "**3. Create a 3x3 Array filled with the number 7**"
      ]
    },
    {
      "cell_type": "code",
      "metadata": {
        "id": "cbiiRotODZrQ",
        "colab_type": "code",
        "colab": {}
      },
      "source": [
        ""
      ],
      "execution_count": 0,
      "outputs": []
    },
    {
      "cell_type": "markdown",
      "metadata": {
        "id": "tRj_0nqGDo54",
        "colab_type": "text"
      },
      "source": [
        "**4. Create a vector of at least size 5 filled with Random Values between -1 and 1**"
      ]
    },
    {
      "cell_type": "code",
      "metadata": {
        "id": "rBNcPivfDlIB",
        "colab_type": "code",
        "colab": {}
      },
      "source": [
        ""
      ],
      "execution_count": 0,
      "outputs": []
    },
    {
      "cell_type": "markdown",
      "metadata": {
        "id": "oX8wMvKHEpj7",
        "colab_type": "text"
      },
      "source": [
        "**5. Multiply the two matricies (A and B) below.  (Assign the answer to the variable ANS) - Run the cell below to check your answer**"
      ]
    },
    {
      "cell_type": "code",
      "metadata": {
        "id": "zmDsMgngET3Z",
        "colab_type": "code",
        "colab": {}
      },
      "source": [
        "# Use the following two arrays for #5\n",
        "A = np.array([[.15,.55,.7]])\n",
        "B = np.array([[1,2,3],[4,5,6],[7,8,9]])"
      ],
      "execution_count": 0,
      "outputs": []
    },
    {
      "cell_type": "code",
      "metadata": {
        "id": "8FZ9VQoEFeT2",
        "colab_type": "code",
        "colab": {}
      },
      "source": [
        "# Your code here"
      ],
      "execution_count": 0,
      "outputs": []
    },
    {
      "cell_type": "code",
      "metadata": {
        "id": "kOj-s1Zh1jGQ",
        "colab_type": "code",
        "colab": {}
      },
      "source": [
        "# Checking the answer!\n",
        "assert np.sum(ans) == 25.95,'Try again'\n",
        "print('Good job!', ans)"
      ],
      "execution_count": 0,
      "outputs": []
    },
    {
      "cell_type": "markdown",
      "metadata": {
        "id": "0YnJi3rJGrtI",
        "colab_type": "text"
      },
      "source": [
        "**6. Combine the [ans] array created in #5 with the following 2 arrays below.**"
      ]
    },
    {
      "cell_type": "code",
      "metadata": {
        "id": "e2PYHY9B13l_",
        "colab_type": "code",
        "colab": {}
      },
      "source": [
        "# Use these two arrays in combination with your answer from #5\n",
        "first_row = np.array([[0.1, 0.1, 9.9]])\n",
        "last_row = np.array([[9.9, 9.9, 0.1]])"
      ],
      "execution_count": 0,
      "outputs": []
    },
    {
      "cell_type": "code",
      "metadata": {
        "id": "clumLdOIGBWF",
        "colab_type": "code",
        "colab": {}
      },
      "source": [
        ""
      ],
      "execution_count": 0,
      "outputs": []
    },
    {
      "cell_type": "markdown",
      "metadata": {
        "id": "EL27ehnpJeUH",
        "colab_type": "text"
      },
      "source": [
        "**7. Swap the first and last columns in the combined array.**"
      ]
    },
    {
      "cell_type": "code",
      "metadata": {
        "id": "yv4zks8KJjQ2",
        "colab_type": "code",
        "colab": {}
      },
      "source": [
        ""
      ],
      "execution_count": 0,
      "outputs": []
    },
    {
      "cell_type": "markdown",
      "metadata": {
        "id": "O7Sx84hyJj50",
        "colab_type": "text"
      },
      "source": [
        "**8. Swap the first and the middle row in the combined array**"
      ]
    },
    {
      "cell_type": "code",
      "metadata": {
        "id": "1Vf7zinuJklS",
        "colab_type": "code",
        "colab": {}
      },
      "source": [
        ""
      ],
      "execution_count": 0,
      "outputs": []
    },
    {
      "cell_type": "markdown",
      "metadata": {
        "id": "kVsk92t7HENc",
        "colab_type": "text"
      },
      "source": [
        "**9. Save the combined array from #8 to file.**"
      ]
    },
    {
      "cell_type": "code",
      "metadata": {
        "id": "IQRs0uhmHMtW",
        "colab_type": "code",
        "colab": {}
      },
      "source": [
        ""
      ],
      "execution_count": 0,
      "outputs": []
    },
    {
      "cell_type": "markdown",
      "metadata": {
        "id": "mBw0SDE7HNTi",
        "colab_type": "text"
      },
      "source": [
        "**10. Load the saved array from file into a new array.**"
      ]
    },
    {
      "cell_type": "code",
      "metadata": {
        "id": "HubTnmE67760",
        "colab_type": "code",
        "colab": {}
      },
      "source": [
        ""
      ],
      "execution_count": 0,
      "outputs": []
    },
    {
      "cell_type": "markdown",
      "metadata": {
        "id": "HiZmZHxvHUzF",
        "colab_type": "text"
      },
      "source": [
        "**11. Convert all array elements to float32**"
      ]
    },
    {
      "cell_type": "code",
      "metadata": {
        "id": "AUPnyfl3Htsn",
        "colab_type": "code",
        "colab": {}
      },
      "source": [
        ""
      ],
      "execution_count": 0,
      "outputs": []
    },
    {
      "cell_type": "markdown",
      "metadata": {
        "id": "jeRWPICJHuCc",
        "colab_type": "text"
      },
      "source": [
        "**12. Find the mean of the middle row of the following array.**"
      ]
    },
    {
      "cell_type": "code",
      "metadata": {
        "id": "y2sU7jBcVSee",
        "colab_type": "code",
        "colab": {}
      },
      "source": [
        "# For Questions 12-19 use the following array\n",
        "arr = np.random.randint(1,10,(7,7))\n",
        "arr"
      ],
      "execution_count": 0,
      "outputs": []
    },
    {
      "cell_type": "code",
      "metadata": {
        "id": "GXC-rDnQH6A0",
        "colab_type": "code",
        "colab": {}
      },
      "source": [
        ""
      ],
      "execution_count": 0,
      "outputs": []
    },
    {
      "cell_type": "markdown",
      "metadata": {
        "id": "5EbuyanKH5Wp",
        "colab_type": "text"
      },
      "source": [
        "**13. Find the Variance of the array.**"
      ]
    },
    {
      "cell_type": "code",
      "metadata": {
        "id": "BLL70Jz-H-GE",
        "colab_type": "code",
        "colab": {}
      },
      "source": [
        ""
      ],
      "execution_count": 0,
      "outputs": []
    },
    {
      "cell_type": "markdown",
      "metadata": {
        "id": "AJNCtHopH_A0",
        "colab_type": "text"
      },
      "source": [
        "**14. Slice the array into a new array of just it's middle column.**"
      ]
    },
    {
      "cell_type": "code",
      "metadata": {
        "id": "UUXFbAGXIGlt",
        "colab_type": "code",
        "colab": {}
      },
      "source": [
        ""
      ],
      "execution_count": 0,
      "outputs": []
    },
    {
      "cell_type": "markdown",
      "metadata": {
        "id": "LHarnAoYIaXz",
        "colab_type": "text"
      },
      "source": [
        "**15. Create a new Array of all the elements on the left to right, top to bottom, diagnal.**"
      ]
    },
    {
      "cell_type": "code",
      "metadata": {
        "id": "8Qj9--CmUSF3",
        "colab_type": "code",
        "colab": {}
      },
      "source": [
        ""
      ],
      "execution_count": 0,
      "outputs": []
    },
    {
      "cell_type": "markdown",
      "metadata": {
        "id": "Hz3DyOHrInL_",
        "colab_type": "text"
      },
      "source": [
        "**16. Find the most frequently occurring value in the array.**"
      ]
    },
    {
      "cell_type": "code",
      "metadata": {
        "id": "obOjRKimIm9x",
        "colab_type": "code",
        "colab": {}
      },
      "source": [
        ""
      ],
      "execution_count": 0,
      "outputs": []
    },
    {
      "cell_type": "markdown",
      "metadata": {
        "id": "iEaiGazWIuho",
        "colab_type": "text"
      },
      "source": [
        "**17. Normalize the array**"
      ]
    },
    {
      "cell_type": "code",
      "metadata": {
        "id": "MdlWxvFbI9s1",
        "colab_type": "code",
        "colab": {}
      },
      "source": [
        ""
      ],
      "execution_count": 0,
      "outputs": []
    },
    {
      "cell_type": "markdown",
      "metadata": {
        "id": "IKYO0V5-JKbV",
        "colab_type": "text"
      },
      "source": [
        "**18. Round the normalized array down to the nearest int.**"
      ]
    },
    {
      "cell_type": "code",
      "metadata": {
        "id": "JZH3ehC4JZ5a",
        "colab_type": "code",
        "colab": {}
      },
      "source": [
        ""
      ],
      "execution_count": 0,
      "outputs": []
    },
    {
      "cell_type": "markdown",
      "metadata": {
        "id": "wtHZA8xlI-Fj",
        "colab_type": "text"
      },
      "source": [
        "**19. Make the array Unmutable**"
      ]
    },
    {
      "cell_type": "code",
      "metadata": {
        "id": "XNOyy_jAJJrA",
        "colab_type": "code",
        "colab": {}
      },
      "source": [
        ""
      ],
      "execution_count": 0,
      "outputs": []
    },
    {
      "cell_type": "markdown",
      "metadata": {
        "id": "EWXWqrsvIH0h",
        "colab_type": "text"
      },
      "source": [
        "**20. What do you get when you multiply the following arrays `[True, True, False] * [False, False, True]`?**"
      ]
    },
    {
      "cell_type": "code",
      "metadata": {
        "id": "pPtmWCHiJBIk",
        "colab_type": "code",
        "colab": {}
      },
      "source": [
        ""
      ],
      "execution_count": 0,
      "outputs": []
    }
  ]
}