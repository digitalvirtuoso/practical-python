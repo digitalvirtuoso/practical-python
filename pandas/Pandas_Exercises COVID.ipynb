{
  "nbformat": 4,
  "nbformat_minor": 0,
  "metadata": {
    "colab": {
      "name": "Pandas Exercises.ipynb",
      "provenance": []
    },
    "kernelspec": {
      "name": "python3",
      "display_name": "Python 3"
    }
  },
  "cells": [
    {
      "cell_type": "markdown",
      "metadata": {
        "id": "QpxT1QiByC0w",
        "colab_type": "text"
      },
      "source": [
        "**Pandas Exercises - With the NY Times Covid data**\n",
        "\n",
        "Run the cell below to pull get the data from the nytimes github"
      ]
    },
    {
      "cell_type": "code",
      "metadata": {
        "id": "RQ44vbLFx5Mi",
        "colab_type": "code",
        "outputId": "8ab4107d-8025-456a-fc6d-5e1e2833d733",
        "colab": {
          "base_uri": "https://localhost:8080/",
          "height": 55
        }
      },
      "source": [
        "!git clone https://github.com/nytimes/covid-19-data.git"
      ],
      "execution_count": 0,
      "outputs": []
    },
    {
      "cell_type": "markdown",
      "metadata": {
        "id": "QsSfsj_HyXKp",
        "colab_type": "text"
      },
      "source": [
        "**1. Import Pandas and Check your Version of Pandas**"
      ]
    },
    {
      "cell_type": "code",
      "metadata": {
        "id": "ZwQTqr_5yPts",
        "colab_type": "code",
        "colab": {}
      },
      "source": [
        ""
      ],
      "execution_count": 0,
      "outputs": []
    },
    {
      "cell_type": "markdown",
      "metadata": {
        "id": "dziluy3nztK6",
        "colab_type": "text"
      },
      "source": [
        "**2. Read the *us-counties.csv* data into a new Dataframe**"
      ]
    },
    {
      "cell_type": "code",
      "metadata": {
        "id": "WHj6oXHIzs64",
        "colab_type": "code",
        "colab": {}
      },
      "source": [
        ""
      ],
      "execution_count": 0,
      "outputs": []
    },
    {
      "cell_type": "markdown",
      "metadata": {
        "id": "-5TCjU1-y-CL",
        "colab_type": "text"
      },
      "source": [
        "**3. Inspect the data - Display the first 5 Rows**"
      ]
    },
    {
      "cell_type": "code",
      "metadata": {
        "id": "H8F4jsowy9bZ",
        "colab_type": "code",
        "colab": {}
      },
      "source": [
        ""
      ],
      "execution_count": 0,
      "outputs": []
    },
    {
      "cell_type": "markdown",
      "metadata": {
        "id": "ew3pGw-SxH3d",
        "colab_type": "text"
      },
      "source": [
        "**4. Drop the 'fips' Column**"
      ]
    },
    {
      "cell_type": "code",
      "metadata": {
        "id": "pFtFiZLIxL8V",
        "colab_type": "code",
        "colab": {}
      },
      "source": [
        ""
      ],
      "execution_count": 0,
      "outputs": []
    },
    {
      "cell_type": "markdown",
      "metadata": {
        "id": "uEwOVzxY3TM_",
        "colab_type": "text"
      },
      "source": [
        "**5. Check dtypes of the data**"
      ]
    },
    {
      "cell_type": "code",
      "metadata": {
        "id": "lsKpdQiF3Fz0",
        "colab_type": "code",
        "colab": {}
      },
      "source": [
        ""
      ],
      "execution_count": 0,
      "outputs": []
    },
    {
      "cell_type": "markdown",
      "metadata": {
        "id": "-w0szwEE0vtF",
        "colab_type": "text"
      },
      "source": [
        "**6. Change the 'date' column to Date dtype**"
      ]
    },
    {
      "cell_type": "code",
      "metadata": {
        "id": "AvTrbhBA0u-h",
        "colab_type": "code",
        "colab": {}
      },
      "source": [
        ""
      ],
      "execution_count": 0,
      "outputs": []
    },
    {
      "cell_type": "markdown",
      "metadata": {
        "id": "pvL5iDg-2F1P",
        "colab_type": "text"
      },
      "source": [
        "**7. Set the data index to 'date'**"
      ]
    },
    {
      "cell_type": "code",
      "metadata": {
        "id": "Jt5KvSIa0giV",
        "colab_type": "code",
        "colab": {}
      },
      "source": [
        ""
      ],
      "execution_count": 0,
      "outputs": []
    },
    {
      "cell_type": "markdown",
      "metadata": {
        "id": "J62SRL-11sdS",
        "colab_type": "text"
      },
      "source": [
        "**8. Find how many weeks worth of data we have**"
      ]
    },
    {
      "cell_type": "code",
      "metadata": {
        "id": "ydr76OSt1Ia9",
        "colab_type": "code",
        "colab": {}
      },
      "source": [
        ""
      ],
      "execution_count": 0,
      "outputs": []
    },
    {
      "cell_type": "markdown",
      "metadata": {
        "id": "banCJ8eK4jJB",
        "colab_type": "text"
      },
      "source": [
        "**9. Create a seperate Dataframe representing only California and display the first 5 data entries**"
      ]
    },
    {
      "cell_type": "code",
      "metadata": {
        "id": "NVN7SxK5cJhX",
        "colab_type": "code",
        "colab": {}
      },
      "source": [
        ""
      ],
      "execution_count": 0,
      "outputs": []
    },
    {
      "cell_type": "markdown",
      "metadata": {
        "id": "LKMijtKxh_xQ",
        "colab_type": "text"
      },
      "source": [
        "**10. How many counties in California do we have data for?**"
      ]
    },
    {
      "cell_type": "code",
      "metadata": {
        "id": "jpmkFjPfiwnL",
        "colab_type": "code",
        "colab": {}
      },
      "source": [
        ""
      ],
      "execution_count": 0,
      "outputs": []
    },
    {
      "cell_type": "markdown",
      "metadata": {
        "id": "E02xoD8XixZa",
        "colab_type": "text"
      },
      "source": [
        "**11. How many data entries do we have for each county?**"
      ]
    },
    {
      "cell_type": "code",
      "metadata": {
        "id": "1cz0av1Hhpko",
        "colab_type": "code",
        "colab": {}
      },
      "source": [
        ""
      ],
      "execution_count": 0,
      "outputs": []
    },
    {
      "cell_type": "markdown",
      "metadata": {
        "id": "KXpb5xKqnFzY",
        "colab_type": "text"
      },
      "source": [
        "**12. How many counties in California have experienced over 1000 cases?**"
      ]
    },
    {
      "cell_type": "code",
      "metadata": {
        "id": "O9yfPh7nmMaz",
        "colab_type": "code",
        "colab": {}
      },
      "source": [
        ""
      ],
      "execution_count": 0,
      "outputs": []
    },
    {
      "cell_type": "markdown",
      "metadata": {
        "id": "5B7HuYPbnSuy",
        "colab_type": "text"
      },
      "source": [
        "**13. Which county has experienced the highest death toll?**"
      ]
    },
    {
      "cell_type": "code",
      "metadata": {
        "id": "I1vvZE0ynSGq",
        "colab_type": "code",
        "colab": {}
      },
      "source": [
        ""
      ],
      "execution_count": 0,
      "outputs": []
    },
    {
      "cell_type": "markdown",
      "metadata": {
        "id": "guX6hx9vpqRD",
        "colab_type": "text"
      },
      "source": [
        "**14. Slice the Data for that County Seperately into a new Dataframe**"
      ]
    },
    {
      "cell_type": "code",
      "metadata": {
        "id": "4T6KQa_5m8Kp",
        "colab_type": "code",
        "colab": {}
      },
      "source": [
        ""
      ],
      "execution_count": 0,
      "outputs": []
    },
    {
      "cell_type": "markdown",
      "metadata": {
        "id": "EQYEf1reqlPC",
        "colab_type": "text"
      },
      "source": [
        "**15. Create and populate new Columns for New Cases per Day and Deaths per day**"
      ]
    },
    {
      "cell_type": "code",
      "metadata": {
        "id": "m1xU8vg5qk_1",
        "colab_type": "code",
        "colab": {}
      },
      "source": [
        ""
      ],
      "execution_count": 0,
      "outputs": []
    },
    {
      "cell_type": "markdown",
      "metadata": {
        "id": "ds0qam6W_n5N",
        "colab_type": "text"
      },
      "source": [
        "**16. What date had the most cases for LA county?**"
      ]
    },
    {
      "cell_type": "code",
      "metadata": {
        "id": "ZM_4p6Nh_fIZ",
        "colab_type": "code",
        "colab": {}
      },
      "source": [
        ""
      ],
      "execution_count": 0,
      "outputs": []
    },
    {
      "cell_type": "markdown",
      "metadata": {
        "id": "axEZDmKTvpk6",
        "colab_type": "text"
      },
      "source": [
        "**17. Inspect the data in the month of April for Los Angeles County**"
      ]
    },
    {
      "cell_type": "code",
      "metadata": {
        "id": "rZApPTDq-_C2",
        "colab_type": "code",
        "colab": {}
      },
      "source": [
        ""
      ],
      "execution_count": 0,
      "outputs": []
    },
    {
      "cell_type": "markdown",
      "metadata": {
        "id": "jxyCTjCa-1Pk",
        "colab_type": "text"
      },
      "source": [
        "**18. Find the mean [cases per day] for April**"
      ]
    },
    {
      "cell_type": "code",
      "metadata": {
        "id": "TjRus8chvpUR",
        "colab_type": "code",
        "colab": {}
      },
      "source": [
        ""
      ],
      "execution_count": 0,
      "outputs": []
    },
    {
      "cell_type": "markdown",
      "metadata": {
        "id": "OGJLCz-vz_ZV",
        "colab_type": "text"
      },
      "source": [
        "**19. Plot cases per day for the month of April in Los Angeles county**"
      ]
    },
    {
      "cell_type": "code",
      "metadata": {
        "id": "egdgDn3tzSGM",
        "colab_type": "code",
        "colab": {}
      },
      "source": [
        ""
      ],
      "execution_count": 0,
      "outputs": []
    },
    {
      "cell_type": "markdown",
      "metadata": {
        "id": "j5g2cTMB0m2_",
        "colab_type": "text"
      },
      "source": [
        "**20. Plot Deaths per Day for the month of March**"
      ]
    },
    {
      "cell_type": "code",
      "metadata": {
        "id": "nUCK6Vwj0zu3",
        "colab_type": "code",
        "colab": {}
      },
      "source": [
        ""
      ],
      "execution_count": 0,
      "outputs": []
    },
    {
      "cell_type": "markdown",
      "metadata": {
        "id": "uH5usgGt9-c4",
        "colab_type": "text"
      },
      "source": [
        "**Armed with basics in Pandas - Answer your own questions about the data!  Happy exploring**\n",
        "\n",
        "Don't hesitate to send me suggestions / a message / or make change requests.  There is more than one way to do everything here!"
      ]
    },
    {
      "cell_type": "code",
      "metadata": {
        "id": "4yM4uFSD-F8G",
        "colab_type": "code",
        "colab": {}
      },
      "source": [
        ""
      ],
      "execution_count": 0,
      "outputs": []
    }
  ]
}
